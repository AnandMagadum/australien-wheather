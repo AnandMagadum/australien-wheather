{
 "cells": [
  {
   "cell_type": "code",
   "execution_count": 4,
   "metadata": {},
   "outputs": [],
   "source": [
    "import pandas as pd\n",
    "import numpy as np\n",
    "import tensorflow as tf\n",
    "from tensorflow import keras\n",
    "from sklearn.model_selection import train_test_split\n"
   ]
  },
  {
   "cell_type": "code",
   "execution_count": 8,
   "metadata": {},
   "outputs": [],
   "source": [
    "df=pd.read_csv('final_aus_weather.csv',index_col='Date')"
   ]
  },
  {
   "cell_type": "code",
   "execution_count": 9,
   "metadata": {},
   "outputs": [
    {
     "data": {
      "text/html": [
       "<div>\n",
       "<style scoped>\n",
       "    .dataframe tbody tr th:only-of-type {\n",
       "        vertical-align: middle;\n",
       "    }\n",
       "\n",
       "    .dataframe tbody tr th {\n",
       "        vertical-align: top;\n",
       "    }\n",
       "\n",
       "    .dataframe thead th {\n",
       "        text-align: right;\n",
       "    }\n",
       "</style>\n",
       "<table border=\"1\" class=\"dataframe\">\n",
       "  <thead>\n",
       "    <tr style=\"text-align: right;\">\n",
       "      <th></th>\n",
       "      <th>Location</th>\n",
       "      <th>MinTemp</th>\n",
       "      <th>MaxTemp</th>\n",
       "      <th>Rainfall</th>\n",
       "      <th>Evaporation</th>\n",
       "      <th>Sunshine</th>\n",
       "      <th>WindGustDir</th>\n",
       "      <th>WindGustSpeed</th>\n",
       "      <th>WindDir9am</th>\n",
       "      <th>WindDir3pm</th>\n",
       "      <th>...</th>\n",
       "      <th>WindSpeed3pm</th>\n",
       "      <th>Humidity9am</th>\n",
       "      <th>Humidity3pm</th>\n",
       "      <th>Pressure3pm</th>\n",
       "      <th>Cloud9am</th>\n",
       "      <th>Cloud3pm</th>\n",
       "      <th>Temp9am</th>\n",
       "      <th>Temp3pm</th>\n",
       "      <th>RainToday</th>\n",
       "      <th>RainTomorrow</th>\n",
       "    </tr>\n",
       "    <tr>\n",
       "      <th>Date</th>\n",
       "      <th></th>\n",
       "      <th></th>\n",
       "      <th></th>\n",
       "      <th></th>\n",
       "      <th></th>\n",
       "      <th></th>\n",
       "      <th></th>\n",
       "      <th></th>\n",
       "      <th></th>\n",
       "      <th></th>\n",
       "      <th></th>\n",
       "      <th></th>\n",
       "      <th></th>\n",
       "      <th></th>\n",
       "      <th></th>\n",
       "      <th></th>\n",
       "      <th></th>\n",
       "      <th></th>\n",
       "      <th></th>\n",
       "      <th></th>\n",
       "      <th></th>\n",
       "    </tr>\n",
       "  </thead>\n",
       "  <tbody>\n",
       "    <tr>\n",
       "      <th>2009-01-05</th>\n",
       "      <td>2</td>\n",
       "      <td>0.504717</td>\n",
       "      <td>0.767486</td>\n",
       "      <td>0.0</td>\n",
       "      <td>0.078468</td>\n",
       "      <td>0.760023</td>\n",
       "      <td>14</td>\n",
       "      <td>0.271318</td>\n",
       "      <td>1</td>\n",
       "      <td>7</td>\n",
       "      <td>...</td>\n",
       "      <td>0.298851</td>\n",
       "      <td>0.41</td>\n",
       "      <td>0.09</td>\n",
       "      <td>0.5136</td>\n",
       "      <td>0.26808</td>\n",
       "      <td>0.363619</td>\n",
       "      <td>0.624473</td>\n",
       "      <td>0.763916</td>\n",
       "      <td>0</td>\n",
       "      <td>0</td>\n",
       "    </tr>\n",
       "    <tr>\n",
       "      <th>2009-01-06</th>\n",
       "      <td>2</td>\n",
       "      <td>0.523585</td>\n",
       "      <td>0.807183</td>\n",
       "      <td>0.0</td>\n",
       "      <td>0.078468</td>\n",
       "      <td>0.760023</td>\n",
       "      <td>13</td>\n",
       "      <td>0.356589</td>\n",
       "      <td>9</td>\n",
       "      <td>14</td>\n",
       "      <td>...</td>\n",
       "      <td>0.298851</td>\n",
       "      <td>0.33</td>\n",
       "      <td>0.08</td>\n",
       "      <td>0.4736</td>\n",
       "      <td>0.26808</td>\n",
       "      <td>0.363619</td>\n",
       "      <td>0.639241</td>\n",
       "      <td>0.809981</td>\n",
       "      <td>0</td>\n",
       "      <td>0</td>\n",
       "    </tr>\n",
       "    <tr>\n",
       "      <th>2009-01-07</th>\n",
       "      <td>2</td>\n",
       "      <td>0.580189</td>\n",
       "      <td>0.826087</td>\n",
       "      <td>0.0</td>\n",
       "      <td>0.078468</td>\n",
       "      <td>0.760023</td>\n",
       "      <td>13</td>\n",
       "      <td>0.395349</td>\n",
       "      <td>0</td>\n",
       "      <td>13</td>\n",
       "      <td>...</td>\n",
       "      <td>0.344828</td>\n",
       "      <td>0.34</td>\n",
       "      <td>0.12</td>\n",
       "      <td>0.4096</td>\n",
       "      <td>0.26808</td>\n",
       "      <td>0.363619</td>\n",
       "      <td>0.683544</td>\n",
       "      <td>0.840691</td>\n",
       "      <td>0</td>\n",
       "      <td>0</td>\n",
       "    </tr>\n",
       "    <tr>\n",
       "      <th>2009-01-13</th>\n",
       "      <td>2</td>\n",
       "      <td>0.606132</td>\n",
       "      <td>0.803403</td>\n",
       "      <td>0.0</td>\n",
       "      <td>0.078468</td>\n",
       "      <td>0.760023</td>\n",
       "      <td>6</td>\n",
       "      <td>0.224806</td>\n",
       "      <td>9</td>\n",
       "      <td>7</td>\n",
       "      <td>...</td>\n",
       "      <td>0.195402</td>\n",
       "      <td>0.51</td>\n",
       "      <td>0.19</td>\n",
       "      <td>0.5408</td>\n",
       "      <td>0.26808</td>\n",
       "      <td>0.363619</td>\n",
       "      <td>0.664557</td>\n",
       "      <td>0.788868</td>\n",
       "      <td>0</td>\n",
       "      <td>0</td>\n",
       "    </tr>\n",
       "    <tr>\n",
       "      <th>2009-01-14</th>\n",
       "      <td>2</td>\n",
       "      <td>0.610849</td>\n",
       "      <td>0.903592</td>\n",
       "      <td>0.0</td>\n",
       "      <td>0.078468</td>\n",
       "      <td>0.760023</td>\n",
       "      <td>7</td>\n",
       "      <td>0.255814</td>\n",
       "      <td>10</td>\n",
       "      <td>11</td>\n",
       "      <td>...</td>\n",
       "      <td>0.195402</td>\n",
       "      <td>0.40</td>\n",
       "      <td>0.08</td>\n",
       "      <td>0.4768</td>\n",
       "      <td>0.26808</td>\n",
       "      <td>0.363619</td>\n",
       "      <td>0.691983</td>\n",
       "      <td>0.900192</td>\n",
       "      <td>0</td>\n",
       "      <td>0</td>\n",
       "    </tr>\n",
       "  </tbody>\n",
       "</table>\n",
       "<p>5 rows × 21 columns</p>\n",
       "</div>"
      ],
      "text/plain": [
       "            Location   MinTemp   MaxTemp  Rainfall  Evaporation  Sunshine  \\\n",
       "Date                                                                        \n",
       "2009-01-05         2  0.504717  0.767486       0.0     0.078468  0.760023   \n",
       "2009-01-06         2  0.523585  0.807183       0.0     0.078468  0.760023   \n",
       "2009-01-07         2  0.580189  0.826087       0.0     0.078468  0.760023   \n",
       "2009-01-13         2  0.606132  0.803403       0.0     0.078468  0.760023   \n",
       "2009-01-14         2  0.610849  0.903592       0.0     0.078468  0.760023   \n",
       "\n",
       "            WindGustDir  WindGustSpeed  WindDir9am  WindDir3pm  ...  \\\n",
       "Date                                                            ...   \n",
       "2009-01-05           14       0.271318           1           7  ...   \n",
       "2009-01-06           13       0.356589           9          14  ...   \n",
       "2009-01-07           13       0.395349           0          13  ...   \n",
       "2009-01-13            6       0.224806           9           7  ...   \n",
       "2009-01-14            7       0.255814          10          11  ...   \n",
       "\n",
       "            WindSpeed3pm  Humidity9am  Humidity3pm  Pressure3pm  Cloud9am  \\\n",
       "Date                                                                        \n",
       "2009-01-05      0.298851         0.41         0.09       0.5136   0.26808   \n",
       "2009-01-06      0.298851         0.33         0.08       0.4736   0.26808   \n",
       "2009-01-07      0.344828         0.34         0.12       0.4096   0.26808   \n",
       "2009-01-13      0.195402         0.51         0.19       0.5408   0.26808   \n",
       "2009-01-14      0.195402         0.40         0.08       0.4768   0.26808   \n",
       "\n",
       "            Cloud3pm   Temp9am   Temp3pm  RainToday  RainTomorrow  \n",
       "Date                                                               \n",
       "2009-01-05  0.363619  0.624473  0.763916          0             0  \n",
       "2009-01-06  0.363619  0.639241  0.809981          0             0  \n",
       "2009-01-07  0.363619  0.683544  0.840691          0             0  \n",
       "2009-01-13  0.363619  0.664557  0.788868          0             0  \n",
       "2009-01-14  0.363619  0.691983  0.900192          0             0  \n",
       "\n",
       "[5 rows x 21 columns]"
      ]
     },
     "execution_count": 9,
     "metadata": {},
     "output_type": "execute_result"
    }
   ],
   "source": [
    "df.head(5)"
   ]
  },
  {
   "cell_type": "code",
   "execution_count": 11,
   "metadata": {},
   "outputs": [],
   "source": [
    "x=df.iloc[:,:-1]\n",
    "y=df.iloc[:,-1:]"
   ]
  },
  {
   "cell_type": "code",
   "execution_count": 12,
   "metadata": {},
   "outputs": [
    {
     "data": {
      "text/plain": [
       "(145459, 20)"
      ]
     },
     "execution_count": 12,
     "metadata": {},
     "output_type": "execute_result"
    }
   ],
   "source": [
    "x.shape"
   ]
  },
  {
   "cell_type": "code",
   "execution_count": 13,
   "metadata": {},
   "outputs": [
    {
     "data": {
      "text/plain": [
       "(145459, 1)"
      ]
     },
     "execution_count": 13,
     "metadata": {},
     "output_type": "execute_result"
    }
   ],
   "source": [
    "y.shape"
   ]
  },
  {
   "cell_type": "code",
   "execution_count": 14,
   "metadata": {},
   "outputs": [],
   "source": [
    "x_train,x_test,y_train,y_test=train_test_split(x,y,test_size=0.25,random_state=42)"
   ]
  },
  {
   "cell_type": "code",
   "execution_count": 15,
   "metadata": {},
   "outputs": [
    {
     "data": {
      "text/plain": [
       "(109094, 20)"
      ]
     },
     "execution_count": 15,
     "metadata": {},
     "output_type": "execute_result"
    }
   ],
   "source": [
    "x_train.shape"
   ]
  },
  {
   "cell_type": "code",
   "execution_count": 16,
   "metadata": {},
   "outputs": [
    {
     "data": {
      "text/plain": [
       "(36365, 20)"
      ]
     },
     "execution_count": 16,
     "metadata": {},
     "output_type": "execute_result"
    }
   ],
   "source": [
    "x_test.shape"
   ]
  },
  {
   "cell_type": "code",
   "execution_count": 17,
   "metadata": {},
   "outputs": [
    {
     "data": {
      "text/plain": [
       "(109094, 1)"
      ]
     },
     "execution_count": 17,
     "metadata": {},
     "output_type": "execute_result"
    }
   ],
   "source": [
    "y_train.shape"
   ]
  },
  {
   "cell_type": "code",
   "execution_count": 18,
   "metadata": {},
   "outputs": [
    {
     "data": {
      "text/plain": [
       "(36365, 1)"
      ]
     },
     "execution_count": 18,
     "metadata": {},
     "output_type": "execute_result"
    }
   ],
   "source": [
    "y_test.shape"
   ]
  },
  {
   "cell_type": "code",
   "execution_count": 82,
   "metadata": {},
   "outputs": [
    {
     "name": "stdout",
     "output_type": "stream",
     "text": [
      "Epoch 1/20\n",
      "3410/3410 [==============================] - 5s 1ms/step - loss: 0.5247 - accuracy: 0.7805\n",
      "Epoch 2/20\n",
      "3410/3410 [==============================] - 4s 1ms/step - loss: 0.3945 - accuracy: 0.8261\n",
      "Epoch 3/20\n",
      "3410/3410 [==============================] - 4s 1ms/step - loss: 0.3874 - accuracy: 0.8302\n",
      "Epoch 4/20\n",
      "3410/3410 [==============================] - 4s 1ms/step - loss: 0.3858 - accuracy: 0.8299\n",
      "Epoch 5/20\n",
      "3410/3410 [==============================] - 4s 1ms/step - loss: 0.3825 - accuracy: 0.8321\n",
      "Epoch 6/20\n",
      "3410/3410 [==============================] - 4s 1ms/step - loss: 0.3816 - accuracy: 0.8344\n",
      "Epoch 7/20\n",
      "3410/3410 [==============================] - 4s 1ms/step - loss: 0.3818 - accuracy: 0.8316\n",
      "Epoch 8/20\n",
      "3410/3410 [==============================] - 4s 1ms/step - loss: 0.3760 - accuracy: 0.8350\n",
      "Epoch 9/20\n",
      "3410/3410 [==============================] - 4s 1ms/step - loss: 0.3798 - accuracy: 0.8337\n",
      "Epoch 10/20\n",
      "3410/3410 [==============================] - 4s 1ms/step - loss: 0.3781 - accuracy: 0.8338\n",
      "Epoch 11/20\n",
      "3410/3410 [==============================] - 4s 1ms/step - loss: 0.3819 - accuracy: 0.8319\n",
      "Epoch 12/20\n",
      "3410/3410 [==============================] - 4s 1ms/step - loss: 0.3802 - accuracy: 0.8326\n",
      "Epoch 13/20\n",
      "3410/3410 [==============================] - 4s 1ms/step - loss: 0.3817 - accuracy: 0.8315\n",
      "Epoch 14/20\n",
      "3410/3410 [==============================] - 4s 1ms/step - loss: 0.3803 - accuracy: 0.8321\n",
      "Epoch 15/20\n",
      "3410/3410 [==============================] - 4s 1ms/step - loss: 0.3776 - accuracy: 0.8341\n",
      "Epoch 16/20\n",
      "3410/3410 [==============================] - 5s 1ms/step - loss: 0.3755 - accuracy: 0.8357\n",
      "Epoch 17/20\n",
      "3410/3410 [==============================] - 5s 1ms/step - loss: 0.3776 - accuracy: 0.8341\n",
      "Epoch 18/20\n",
      "3410/3410 [==============================] - 4s 1ms/step - loss: 0.3767 - accuracy: 0.8315\n",
      "Epoch 19/20\n",
      "3410/3410 [==============================] - 4s 1ms/step - loss: 0.3762 - accuracy: 0.8335\n",
      "Epoch 20/20\n",
      "3410/3410 [==============================] - 4s 1ms/step - loss: 0.3749 - accuracy: 0.8358\n"
     ]
    },
    {
     "data": {
      "text/plain": [
       "<tensorflow.python.keras.callbacks.History at 0x7fa65903fe80>"
      ]
     },
     "execution_count": 82,
     "metadata": {},
     "output_type": "execute_result"
    }
   ],
   "source": [
    "model=keras.Sequential([\n",
    "    keras.layers.Dense(20,input_shape=(20,)),\n",
    "    keras.layers.Dense(40,activation='linear'),\n",
    "    keras.layers.Dense(10,activation='linear'),\n",
    "    keras.layers.Dense(1,activation='sigmoid')\n",
    "    \n",
    "])\n",
    "\n",
    "model.compile(optimizer='Adamax',\n",
    "             loss='BinaryCrossentropy',\n",
    "             metrics=['accuracy'])\n",
    "model.fit(x_train,y_train,epochs=20)"
   ]
  },
  {
   "cell_type": "code",
   "execution_count": 83,
   "metadata": {},
   "outputs": [
    {
     "name": "stdout",
     "output_type": "stream",
     "text": [
      "1137/1137 [==============================] - 1s 914us/step - loss: 0.3802 - accuracy: 0.8336\n"
     ]
    },
    {
     "data": {
      "text/plain": [
       "[0.3801538348197937, 0.8335762619972229]"
      ]
     },
     "execution_count": 83,
     "metadata": {},
     "output_type": "execute_result"
    }
   ],
   "source": [
    "model.evaluate(x_test,y_test)"
   ]
  },
  {
   "cell_type": "code",
   "execution_count": 84,
   "metadata": {},
   "outputs": [],
   "source": [
    "y_pred=model.predict(x_test)"
   ]
  },
  {
   "cell_type": "code",
   "execution_count": 85,
   "metadata": {},
   "outputs": [],
   "source": [
    "y_pred1=[]\n",
    "for i in y_pred:\n",
    "    if i>=0.5:\n",
    "        y_pred1.append(1)\n",
    "    else:\n",
    "        y_pred1.append(0)"
   ]
  },
  {
   "cell_type": "code",
   "execution_count": 86,
   "metadata": {},
   "outputs": [
    {
     "data": {
      "text/html": [
       "<div>\n",
       "<style scoped>\n",
       "    .dataframe tbody tr th:only-of-type {\n",
       "        vertical-align: middle;\n",
       "    }\n",
       "\n",
       "    .dataframe tbody tr th {\n",
       "        vertical-align: top;\n",
       "    }\n",
       "\n",
       "    .dataframe thead th {\n",
       "        text-align: right;\n",
       "    }\n",
       "</style>\n",
       "<table border=\"1\" class=\"dataframe\">\n",
       "  <thead>\n",
       "    <tr style=\"text-align: right;\">\n",
       "      <th></th>\n",
       "      <th>RainTomarrow</th>\n",
       "    </tr>\n",
       "  </thead>\n",
       "  <tbody>\n",
       "    <tr>\n",
       "      <th>0</th>\n",
       "      <td>0</td>\n",
       "    </tr>\n",
       "    <tr>\n",
       "      <th>1</th>\n",
       "      <td>0</td>\n",
       "    </tr>\n",
       "    <tr>\n",
       "      <th>2</th>\n",
       "      <td>1</td>\n",
       "    </tr>\n",
       "    <tr>\n",
       "      <th>3</th>\n",
       "      <td>0</td>\n",
       "    </tr>\n",
       "    <tr>\n",
       "      <th>4</th>\n",
       "      <td>0</td>\n",
       "    </tr>\n",
       "    <tr>\n",
       "      <th>...</th>\n",
       "      <td>...</td>\n",
       "    </tr>\n",
       "    <tr>\n",
       "      <th>36360</th>\n",
       "      <td>0</td>\n",
       "    </tr>\n",
       "    <tr>\n",
       "      <th>36361</th>\n",
       "      <td>0</td>\n",
       "    </tr>\n",
       "    <tr>\n",
       "      <th>36362</th>\n",
       "      <td>1</td>\n",
       "    </tr>\n",
       "    <tr>\n",
       "      <th>36363</th>\n",
       "      <td>1</td>\n",
       "    </tr>\n",
       "    <tr>\n",
       "      <th>36364</th>\n",
       "      <td>0</td>\n",
       "    </tr>\n",
       "  </tbody>\n",
       "</table>\n",
       "<p>36365 rows × 1 columns</p>\n",
       "</div>"
      ],
      "text/plain": [
       "       RainTomarrow\n",
       "0                 0\n",
       "1                 0\n",
       "2                 1\n",
       "3                 0\n",
       "4                 0\n",
       "...             ...\n",
       "36360             0\n",
       "36361             0\n",
       "36362             1\n",
       "36363             1\n",
       "36364             0\n",
       "\n",
       "[36365 rows x 1 columns]"
      ]
     },
     "execution_count": 86,
     "metadata": {},
     "output_type": "execute_result"
    }
   ],
   "source": [
    "y_test\n",
    "y_pred1=pd.DataFrame(y_pred1,columns=['RainTomarrow'])\n",
    "y_pred1"
   ]
  },
  {
   "cell_type": "code",
   "execution_count": 87,
   "metadata": {},
   "outputs": [],
   "source": [
    "from sklearn.metrics import classification_report,plot_confusion_matrix,confusion_matrix"
   ]
  },
  {
   "cell_type": "code",
   "execution_count": 88,
   "metadata": {},
   "outputs": [
    {
     "name": "stdout",
     "output_type": "stream",
     "text": [
      "              precision    recall  f1-score   support\n",
      "\n",
      "           0       0.96      0.85      0.90     31562\n",
      "           1       0.43      0.76      0.55      4803\n",
      "\n",
      "    accuracy                           0.83     36365\n",
      "   macro avg       0.69      0.80      0.72     36365\n",
      "weighted avg       0.89      0.83      0.85     36365\n",
      "\n"
     ]
    }
   ],
   "source": [
    "print(classification_report(y_pred1,y_test))"
   ]
  },
  {
   "cell_type": "code",
   "execution_count": 89,
   "metadata": {},
   "outputs": [],
   "source": [
    "import matplotlib.pyplot as plt\n",
    "import seaborn as sns"
   ]
  },
  {
   "cell_type": "code",
   "execution_count": 90,
   "metadata": {},
   "outputs": [
    {
     "data": {
      "text/plain": [
       "array([[26675,  4887],\n",
       "       [ 1165,  3638]])"
      ]
     },
     "execution_count": 90,
     "metadata": {},
     "output_type": "execute_result"
    }
   ],
   "source": [
    "confusion_matrix(y_pred1,y_test)"
   ]
  },
  {
   "cell_type": "code",
   "execution_count": null,
   "metadata": {},
   "outputs": [],
   "source": []
  }
 ],
 "metadata": {
  "kernelspec": {
   "display_name": "Python 3",
   "language": "python",
   "name": "python3"
  },
  "language_info": {
   "codemirror_mode": {
    "name": "ipython",
    "version": 3
   },
   "file_extension": ".py",
   "mimetype": "text/x-python",
   "name": "python",
   "nbconvert_exporter": "python",
   "pygments_lexer": "ipython3",
   "version": "3.8.5"
  }
 },
 "nbformat": 4,
 "nbformat_minor": 4
}
